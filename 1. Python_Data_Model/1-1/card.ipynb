{
 "cells": [
  {
   "cell_type": "code",
   "execution_count": 6,
   "metadata": {},
   "outputs": [],
   "source": [
    "import collections\n",
    "from random import choice\n",
    "\n",
    "\n",
    "Card = collections.namedtuple('Card', ['rank', 'suit'])\n",
    "\n",
    "\n",
    "class FrenchDeck:\n",
    "    ranks = [str(n) for n in range(2, 11)] + list('JQKA')\n",
    "    suits = 'spades diamonds clubs hearts'.split()\n",
    "\n",
    "    def __init__(self):\n",
    "        self._cards = [Card(rank, suit) for suit in self.suits\n",
    "                       for rank in self.ranks]\n",
    "\n",
    "    # 특별 메소드가 없다면, len(deck)을 이용할 수 없다.\n",
    "    # 파이썬 데이터 모텔을 사용했을 때의 장점은 두가지 장점\n",
    "     # 1.표준연산을 사용하기위해, 정의된 임의 메소드명을 암기할 필요없음.\n",
    "     # 2. 표준라이브러리에서 제공하는 풍부한 기능 구현할 필요 없이 사용 가능 random.choice()\n",
    "\n",
    "    def __len__(self):\n",
    "        return len(self._cards)\n",
    "\n",
    "    # 여기서 배열화를 하기 때문에 밑에서 indexing이 가능하다.\n",
    "    def __getitem__(self, position):\n",
    "        return self._cards[position]\n",
    "\n",
    "\n",
    "deck = FrenchDeck()"
   ]
  },
  {
   "cell_type": "code",
   "execution_count": 8,
   "metadata": {},
   "outputs": [
    {
     "data": {
      "text/plain": [
       "False"
      ]
     },
     "execution_count": 8,
     "metadata": {},
     "output_type": "execute_result"
    }
   ],
   "source": [
    "Card('K', 'beasts') in deck"
   ]
  },
  {
   "cell_type": "code",
   "execution_count": 9,
   "metadata": {},
   "outputs": [
    {
     "data": {
      "text/plain": [
       "True"
      ]
     },
     "execution_count": 9,
     "metadata": {},
     "output_type": "execute_result"
    }
   ],
   "source": [
    "Card('Q', 'hearts') in deck"
   ]
  },
  {
   "cell_type": "code",
   "execution_count": null,
   "metadata": {},
   "outputs": [],
   "source": [
    "#정렬 하는 법, 숫자 (rank)로 순위를 정하고 (A가 가장 큼) 그림은 스페이드, 하트, 다이아몬드, 클로버\n",
    "suit_values = dict(spades =3, hearts=2, diamonds=1, clubs=0)\n",
    "\n",
    "def spades_high(card):\n",
    "    rank_value = FrenchDeck.ranks.index(card.rank)\n",
    "    return rank_value * len(suit_values) + suit_values[card.suit]\n",
    "    "
   ]
  },
  {
   "cell_type": "code",
   "execution_count": null,
   "metadata": {},
   "outputs": [],
   "source": [
    "for card in sorted(deck, key=spades_high, reverse=True):\n",
    "    print(card)\n",
    "for card in reversed(deck): \n",
    "    print(card) #reversed는 key 값을 통해 정렬할 수 없다. 위처럼 이용하기."
   ]
  },
  {
   "cell_type": "code",
   "execution_count": null,
   "metadata": {},
   "outputs": [],
   "source": [
    "# FrenchDeck이 암묵적으로 object를 상속받지만, 상속대신 데이터모델과 구성을 이용해서 기능을 구현\n",
    "#__len__() __getitem__() 이라는 special method를 구현함으로써 FrenchDeck은 표준 파이썬 시퀀스처럼 동작\n",
    "# -> 반복 및 슬라이싱, 표준라이브러리 함수 사용가능\n",
    "# __len__(), __getitem__() method는 모든 작업을 list 객체인 self._card에 떠넘길 수 있다.\n",
    "#카드 셔플링은 아직 불가능! FrenchDeck은 불변객체이기 때문이다. 캡슐화를 어기면 속성을 직접 조작하면 가능하다. 더 좋은 방법은 11장에서 설명!"
   ]
  }
 ],
 "metadata": {
  "kernelspec": {
   "display_name": "Python 3",
   "language": "python",
   "name": "python3"
  },
  "language_info": {
   "codemirror_mode": {
    "name": "ipython",
    "version": 3
   },
   "file_extension": ".py",
   "mimetype": "text/x-python",
   "name": "python",
   "nbconvert_exporter": "python",
   "pygments_lexer": "ipython3",
   "version": "3.7.9"
  }
 },
 "nbformat": 4,
 "nbformat_minor": 4
}
